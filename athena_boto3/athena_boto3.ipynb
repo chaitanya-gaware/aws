{
 "cells": [
  {
   "cell_type": "code",
   "execution_count": 6,
   "metadata": {},
   "outputs": [],
   "source": [
    "import os\n",
    "from pyspark.sql import SparkSession\n",
    "from pyspark.sql.functions import *\n",
    "from pyspark.sql.types import *\n",
    "import boto3"
   ]
  },
  {
   "cell_type": "code",
   "execution_count": 5,
   "metadata": {},
   "outputs": [
    {
     "name": "stdout",
     "output_type": "stream",
     "text": [
      "456 123\n"
     ]
    },
    {
     "data": {
      "text/plain": [
       "'us-east-1'"
      ]
     },
     "execution_count": 5,
     "metadata": {},
     "output_type": "execute_result"
    }
   ],
   "source": [
    "print(os.environ.get('aws_key'), os.environ.get('aws_key_id'))\n",
    "os.environ.setdefault('AWS_DEFAULT_REGION', 'us-east-1')"
   ]
  },
  {
   "cell_type": "code",
   "execution_count": 6,
   "metadata": {},
   "outputs": [],
   "source": [
    "class athena:\n",
    "    aws_key_id = os.environ.get('aws_key_id')\n",
    "    aws_key = os.environ.get('aws_key')\n",
    "    \n",
    "    def __init__(self, region_name):\n",
    "        self.region_name = region_name\n",
    "        self.athena_client = boto3.client('athena', \n",
    "                                   aws_access_key_id = athena.aws_key_id, \n",
    "                                   aws_secret_access_key = athena.aws_key,\n",
    "                                   region_name = self.region_name)\n",
    "        \n",
    "    def run_query(self, query, database, catalog, output):\n",
    "        self.query = query\n",
    "        self.database = database\n",
    "        self.catalog = catalog\n",
    "        self.output = output\n",
    "        try:\n",
    "            res = self.athena_client.start_query_execution(\n",
    "                QueryString = self.query,\n",
    "                QueryExecutionContext = {\n",
    "                    'Database':self.database,\n",
    "                    'Catalog':self.catalog\n",
    "                }\n",
    "            ResultConfiguration = {\n",
    "                'OutputLocation':self.output\n",
    "            }  \n",
    "            )\n",
    "            query_execution_id = res['QueryExecutionId']\n",
    "            return query_execution_id\n",
    "        except Exception as e:\n",
    "            print(f'Error running query: {e}')\n",
    "            return None\n",
    "athena_instance = athena(region_name='your_region_name')\n",
    "query_execution_id = athena_instance.run_query(\n",
    "    query='SELECT * FROM your_table',\n",
    "    database='your_database_name',\n",
    "    catalog='your_catalog',\n",
    "    output='s3://your-athena-query-results-bucket/'\n",
    ")         "
   ]
  },
  {
   "cell_type": "markdown",
   "metadata": {},
   "source": []
  }
 ],
 "metadata": {
  "kernelspec": {
   "display_name": ".spark-env",
   "language": "python",
   "name": "python3"
  },
  "language_info": {
   "codemirror_mode": {
    "name": "ipython",
    "version": 3
   },
   "file_extension": ".py",
   "mimetype": "text/x-python",
   "name": "python",
   "nbconvert_exporter": "python",
   "pygments_lexer": "ipython3",
   "version": "3.8.18"
  }
 },
 "nbformat": 4,
 "nbformat_minor": 2
}
